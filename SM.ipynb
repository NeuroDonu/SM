{
 "cells": [
  {
   "cell_type": "code",
   "execution_count": null,
   "metadata": {},
   "outputs": [],
   "source": [
    "#@title Монтирование гугл диска\n",
    "from google.colab import drive\n",
    "from IPython.display import clear_output\n",
    "import ipywidgets as widgets\n",
    "from IPython.utils import capture\n",
    "\n",
    "with capture.capture_output() as cap:\n",
    "    def inf(msg, style, wdth): inf = widgets.Button(description=msg, disabled=True, button_style=style, layout=widgets.Layout(min_width=wdth));display(inf)\n",
    "    print(\"\u001b[0;33mПодключаю...\")\n",
    "    drive.mount('/content/drive')\n",
    "    mainpth=\"MyDrive\"\n",
    "clear_output()\n",
    "\n",
    "inf('\\u2714 Готово','success', '300px')"
   ]
  },
  {
   "cell_type": "code",
   "execution_count": null,
   "metadata": {},
   "outputs": [],
   "source": [
    "#@title Установка репозитория (Запустить всего один раз за все использование)\n",
    "from IPython.display import clear_output\n",
    "import ipywidgets as widgets\n",
    "from IPython.utils import capture\n",
    "\n",
    "def inf(msg, style, wdth): inf = widgets.Button(description=msg, disabled=True, button_style=style, layout=widgets.Layout(min_width=wdth));display(inf)\n",
    "\n",
    "with capture.capture_output() as cap: \n",
    "    %cd /content/drive/$mainpth/\n",
    "    !git clone https://github.com/NeuroDonu/SM.git\n",
    "    !git pull\n",
    "clear_output()\n",
    "\n",
    "with capture.capture_output() as cap:\n",
    "    %cd /content/drive/$mainpth/SM/assets/pretrained_models\n",
    "    !wget https://huggingface.co/datasets/OwlMaster/gg2/resolve/main/inswapper_128.onnx\n",
    "    !wget https://huggingface.co/NeuroDonu/faceparser/resolve/main/GFPGANv1.4.pth\n",
    "    !wget https://huggingface.co/NeuroDonu/faceparser/resolve/main/79999_iter.pth\n",
    "    !wget https://huggingface.co/ai-forever/Real-ESRGAN/resolve/main/RealESRGAN_x2.pth\n",
    "    !wget https://huggingface.co/ai-forever/Real-ESRGAN/resolve/main/RealESRGAN_x4.pth\n",
    "    !wget https://huggingface.co/ai-forever/Real-ESRGAN/resolve/main/RealESRGAN_x8.pth\n",
    "    !wget https://huggingface.co/NeuroDonu/faceparser/resolve/main/det_10g.onnx\n",
    "    !wget https://huggingface.co/bluefoxcreation/Codeformer-ONNX/resolve/main/codeformer.onnx\n",
    "    !wget https://huggingface.co/NeuroDonu/faceparser/resolve/main/w600k_r50.onnx\n",
    "clear_output()",
    "\n",
    "inf('\\u2714 Готово','success', '300px')"
   ]
  },
  {
   "cell_type": "code",
   "execution_count": null,
   "metadata": {},
   "outputs": [],
   "source": [
    "#@title Установка модулей (Запускать при каждом использовании)\n",
    "with capture.capture_output() as cap: \n",
    "    %cd /content/\n",
    "    !wget https://developer.download.nvidia.com/compute/cuda/repos/ubuntu2204/x86_64/cuda-ubuntu2204.pin\n",
    "    !mv cuda-ubuntu2204.pin /etc/apt/preferences.d/cuda-repository-pin-600\n",
    "    !wget https://developer.download.nvidia.com/compute/cuda/12.2.2/local_installers/cuda-repo-ubuntu2204-12-2-local_12.2.2-535.104.05-1_amd64.deb\n",
    "    !dpkg -i cuda-repo-ubuntu2204-12-2-local_12.2.2-535.104.05-1_amd64.deb\n",
    "    !cp /var/cuda-repo-ubuntu2204-12-2-local/cuda-*-keyring.gpg /usr/share/keyrings/\n",
    "    !apt-get update\n",
    "    !apt-get -y install cuda\n",
    "    !rm -r /content/cuda-repo-ubuntu2204-12-2-local_12.2.2-535.104.05-1_amd64.deb\n",
    "clear_output()\n",
    "with capture.capture_output() as cap:\n",
    "    !apt-get install g++ gdb make ninja-build rsync zip\n",
    "clear_output()\n",
    "with capture.capture_output() as cap:\n",
    "    %cd /content/drive/$mainpth/SM/\n",
    "    %pip install torch==2.0.0+cpu torchvision==0.15.1+cpu torchaudio==2.0.1 --index-url https://download.pytorch.org/whl/cpu\n",
    "    %pip install -r requirements.txt\n",
    "clear_output()\n"
   ]
  },
  {
   "cell_type": "code",
   "execution_count": null,
   "metadata": {},
   "outputs": [],
   "source": [
    "#@title Запуск\n",
    "!python /content/drive/$mainpth/SM/app.py --colab --out_dir /content/results/"
   ]
  }
 ],
  "metadata": {
    "accelerator": "GPU",
    "colab": {
      "provenance": []
    },
    "gpuClass": "standard",
    "kernelspec": {
      "display_name": "Python 3",
      "name": "python3"
    },
    "language_info": {
      "name": "python",
      "version": "3.9.10"
    }
  },
  "nbformat": 4,
  "nbformat_minor": 0
}
